{
  "nbformat": 4,
  "nbformat_minor": 0,
  "metadata": {
    "colab": {
      "name": "MasterMind_game_num.ipynb",
      "provenance": [],
      "collapsed_sections": [],
      "authorship_tag": "ABX9TyOG35LKMvZvxDPMJL6Z/Jv4"
    },
    "kernelspec": {
      "name": "python3",
      "display_name": "Python 3"
    }
  },
  "cells": [
    {
      "cell_type": "code",
      "metadata": {
        "id": "9LE1nDTGiVsj",
        "colab_type": "code",
        "colab": {}
      },
      "source": [
        "import random as rd"
      ],
      "execution_count": 1,
      "outputs": []
    },
    {
      "cell_type": "code",
      "metadata": {
        "id": "UMp5cPaEDcu-",
        "colab_type": "code",
        "colab": {}
      },
      "source": [
        "# deduction games (inspired by mastermind game)\n",
        "\n",
        "def game_function_numbers():\n",
        "  \n",
        "  # creates the random number with 4 digits\n",
        "  chars = rd.randint(1000,9999)\n",
        "\n",
        "  # Turns the number into a string\n",
        "  secret_comb = str(chars)\n",
        "  \n",
        "  # counters\n",
        "  guess = 0\n",
        "  number_of_guess = 0\n",
        "\n",
        "  # game loop\n",
        "  while True:\n",
        "    #player input number\n",
        "    input_guess = input(\"Choose a number betweem 1000 and 9999 (type quit to exit):\")\n",
        "    \n",
        "    if input_guess != \"quit\":\n",
        "    \n",
        "      # if input is invale skips code back to input\n",
        "      try:\n",
        "        # tests if input is valid(1000 to 9999)\n",
        "        if 1000 <= int(input_guess) <= 9999:\n",
        "\n",
        "          # turns the chosen number into a string\n",
        "          guess = str(input_guess)\n",
        "          # counts number of guesses\n",
        "          number_of_guess += 1\n",
        "\n",
        "          # variable iniciation\n",
        "          position_correct = 0\n",
        "          position_not_correct = 0    \n",
        "          \n",
        "          # loop that tests if secret number digits are equal to guess number digits\n",
        "          for i in range(len(secret_comb)):\n",
        "            if secret_comb[i] == guess[i]:\n",
        "              position_correct += 1\n",
        "\n",
        "          # win condition, 4 correct digits guessed\n",
        "          if position_correct == 4:\n",
        "            print(\"## Win ##\")\n",
        "            print(\"Combination: \", secret_comb)\n",
        "            print(\"Last guess: \", guess)\n",
        "            print(\"Number of guesses: \", number_of_guess)\n",
        "            break\n",
        "\n",
        "          print(\"------------------\")\n",
        "          print(\"Correct caracter and placements:\",position_correct)\n",
        "          print(\"------------------\")\n",
        "        else:\n",
        "          continue\n",
        "\n",
        "      except ValueError:\n",
        "        continue\n",
        "    else:\n",
        "      print(\"screte number: \", secret_comb)\n",
        "      break "
      ],
      "execution_count": 40,
      "outputs": []
    },
    {
      "cell_type": "code",
      "metadata": {
        "id": "VZ4zh8EynNWa",
        "colab_type": "code",
        "colab": {
          "base_uri": "https://localhost:8080/",
          "height": 201
        },
        "outputId": "6bd2bd0e-ebf2-4a54-a1fd-dc2bea66c418"
      },
      "source": [
        "#function call\n",
        "game_function_numbers()"
      ],
      "execution_count": 43,
      "outputs": [
        {
          "output_type": "stream",
          "text": [
            "Choose a number betweem 1000 and 9999 (type quit to exit):3876\n",
            "------------------\n",
            "Correct caracter and placements: 1\n",
            "------------------\n",
            "Choose a number betweem 1000 and 9999 (type quit to exit):8723\n",
            "------------------\n",
            "Correct caracter and placements: 0\n",
            "------------------\n",
            "Choose a number betweem 1000 and 9999 (type quit to exit):quit\n",
            "screte number:  2845\n"
          ],
          "name": "stdout"
        }
      ]
    }
  ]
}